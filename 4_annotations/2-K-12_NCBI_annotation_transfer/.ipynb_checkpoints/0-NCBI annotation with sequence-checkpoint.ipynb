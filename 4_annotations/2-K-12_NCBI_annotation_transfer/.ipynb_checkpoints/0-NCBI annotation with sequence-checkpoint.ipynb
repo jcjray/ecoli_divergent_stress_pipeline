{
 "cells": [
  {
   "cell_type": "markdown",
   "metadata": {},
   "source": [
    "This notebook creates .csv file from NCBI annotations with the gene sequence for each records.\n",
    "\n",
    "# 1. Load \n",
    "### 1.1 Load packages"
   ]
  },
  {
   "cell_type": "code",
   "execution_count": 184,
   "metadata": {},
   "outputs": [],
   "source": [
    "import pandas as pd\n",
    "from Bio import pairwise2\n",
    "import rglonDB_parse as rp\n",
    "from Bio import SeqIO\n",
    "import numpy as np\n",
    "import time\n",
    "\n",
    "pd.options.display.max_rows = 999\n",
    "pd.options.display.max_columns = 999"
   ]
  },
  {
   "cell_type": "markdown",
   "metadata": {},
   "source": [
    "### 1.2 Load NCBI files\n",
    "### 1.2.1 NCBI ann"
   ]
  },
  {
   "cell_type": "code",
   "execution_count": 192,
   "metadata": {},
   "outputs": [
    {
     "data": {
      "text/html": [
       "<div>\n",
       "<style scoped>\n",
       "    .dataframe tbody tr th:only-of-type {\n",
       "        vertical-align: middle;\n",
       "    }\n",
       "\n",
       "    .dataframe tbody tr th {\n",
       "        vertical-align: top;\n",
       "    }\n",
       "\n",
       "    .dataframe thead th {\n",
       "        text-align: right;\n",
       "    }\n",
       "</style>\n",
       "<table border=\"1\" class=\"dataframe\">\n",
       "  <thead>\n",
       "    <tr style=\"text-align: right;\">\n",
       "      <th></th>\n",
       "      <th>locus_tag</th>\n",
       "      <th>name</th>\n",
       "      <th>location</th>\n",
       "      <th>old_locus_tag</th>\n",
       "      <th>product</th>\n",
       "      <th>note</th>\n",
       "      <th>start</th>\n",
       "      <th>end</th>\n",
       "    </tr>\n",
       "  </thead>\n",
       "  <tbody>\n",
       "    <tr>\n",
       "      <td>0</td>\n",
       "      <td>ECB_RS00005</td>\n",
       "      <td>thrL</td>\n",
       "      <td>[189:255](+)</td>\n",
       "      <td>ECB_00001</td>\n",
       "      <td>thr operon leader peptide</td>\n",
       "      <td>Derived by automated computational analysis us...</td>\n",
       "      <td>189</td>\n",
       "      <td>255</td>\n",
       "    </tr>\n",
       "    <tr>\n",
       "      <td>1</td>\n",
       "      <td>ECB_RS00010</td>\n",
       "      <td>thrA</td>\n",
       "      <td>[335:2798](+)</td>\n",
       "      <td>ECB_00002</td>\n",
       "      <td>bifunctional aspartate kinase/homoserine dehyd...</td>\n",
       "      <td>Derived by automated computational analysis us...</td>\n",
       "      <td>335</td>\n",
       "      <td>2798</td>\n",
       "    </tr>\n",
       "    <tr>\n",
       "      <td>2</td>\n",
       "      <td>ECB_RS00015</td>\n",
       "      <td>thrB</td>\n",
       "      <td>[2799:3732](+)</td>\n",
       "      <td>ECB_00003</td>\n",
       "      <td>homoserine kinase</td>\n",
       "      <td>Derived by automated computational analysis us...</td>\n",
       "      <td>2799</td>\n",
       "      <td>3732</td>\n",
       "    </tr>\n",
       "  </tbody>\n",
       "</table>\n",
       "</div>"
      ],
      "text/plain": [
       "     locus_tag  name        location old_locus_tag  \\\n",
       "0  ECB_RS00005  thrL    [189:255](+)     ECB_00001   \n",
       "1  ECB_RS00010  thrA   [335:2798](+)     ECB_00002   \n",
       "2  ECB_RS00015  thrB  [2799:3732](+)     ECB_00003   \n",
       "\n",
       "                                             product  \\\n",
       "0                          thr operon leader peptide   \n",
       "1  bifunctional aspartate kinase/homoserine dehyd...   \n",
       "2                                  homoserine kinase   \n",
       "\n",
       "                                                note  start   end  \n",
       "0  Derived by automated computational analysis us...    189   255  \n",
       "1  Derived by automated computational analysis us...    335  2798  \n",
       "2  Derived by automated computational analysis us...   2799  3732  "
      ]
     },
     "execution_count": 192,
     "metadata": {},
     "output_type": "execute_result"
    }
   ],
   "source": [
    "# read ncbi annotation file\n",
    "ncbi_gene_file = \"HelpFiles/NCBI_rel606_annotation.csv\"\n",
    "ncbi_ann = pd.read_csv(ncbi_gene_file, header=0, index_col=0)\n",
    "ncbi_ann.head(3)"
   ]
  },
  {
   "cell_type": "code",
   "execution_count": 193,
   "metadata": {},
   "outputs": [
    {
     "data": {
      "text/plain": [
       "(4488, 8)"
      ]
     },
     "execution_count": 193,
     "metadata": {},
     "output_type": "execute_result"
    }
   ],
   "source": [
    "ncbi_ann.shape"
   ]
  },
  {
   "cell_type": "markdown",
   "metadata": {},
   "source": [
    "### 1.2.2 NCBI sequence"
   ]
  },
  {
   "cell_type": "code",
   "execution_count": 194,
   "metadata": {},
   "outputs": [],
   "source": [
    "# I'll need the actual sequence for each ECB#\n",
    "ncbi_seq_file = \"HelpFiles/NCBI_rel606/NCBI_EcoliBREL606_Fall2019.fa\"\n",
    "gen_ids = []\n",
    "seq_list = []\n",
    "for record in SeqIO.parse(ncbi_seq_file, \"fasta\"):\n",
    "    if \"NC_012967\" in record.id:\n",
    "        seq = str(record.seq)\n",
    "        des = record.description\n",
    "        des = des.split()\n",
    "        for words in des:\n",
    "            if \"locus_tag\" in words:\n",
    "                ecb = words[11:-1]\n",
    "        gen_ids.append(ecb)\n",
    "        seq_list.append(seq)\n",
    "        #print(record, des, ecb, seq, \"\\n\")"
   ]
  },
  {
   "cell_type": "code",
   "execution_count": 195,
   "metadata": {},
   "outputs": [
    {
     "data": {
      "text/html": [
       "<div>\n",
       "<style scoped>\n",
       "    .dataframe tbody tr th:only-of-type {\n",
       "        vertical-align: middle;\n",
       "    }\n",
       "\n",
       "    .dataframe tbody tr th {\n",
       "        vertical-align: top;\n",
       "    }\n",
       "\n",
       "    .dataframe thead th {\n",
       "        text-align: right;\n",
       "    }\n",
       "</style>\n",
       "<table border=\"1\" class=\"dataframe\">\n",
       "  <thead>\n",
       "    <tr style=\"text-align: right;\">\n",
       "      <th></th>\n",
       "      <th>id</th>\n",
       "      <th>sequence</th>\n",
       "    </tr>\n",
       "  </thead>\n",
       "  <tbody>\n",
       "    <tr>\n",
       "      <td>0</td>\n",
       "      <td>ECB_RS00005</td>\n",
       "      <td>ATGAAACGCATTAGCACCACCATTACCACCACCATCACCATTACCA...</td>\n",
       "    </tr>\n",
       "    <tr>\n",
       "      <td>1</td>\n",
       "      <td>ECB_RS00010</td>\n",
       "      <td>ATGCGAGTGTTGAAGTTCGGCGGTACATCAGTGGCAAATGCAGAAC...</td>\n",
       "    </tr>\n",
       "    <tr>\n",
       "      <td>2</td>\n",
       "      <td>ECB_RS00015</td>\n",
       "      <td>ATGGTTAAAGTTTATGCCCCGGCTTCCAGTGCCAATATGAGCGTCG...</td>\n",
       "    </tr>\n",
       "  </tbody>\n",
       "</table>\n",
       "</div>"
      ],
      "text/plain": [
       "            id                                           sequence\n",
       "0  ECB_RS00005  ATGAAACGCATTAGCACCACCATTACCACCACCATCACCATTACCA...\n",
       "1  ECB_RS00010  ATGCGAGTGTTGAAGTTCGGCGGTACATCAGTGGCAAATGCAGAAC...\n",
       "2  ECB_RS00015  ATGGTTAAAGTTTATGCCCCGGCTTCCAGTGCCAATATGAGCGTCG..."
      ]
     },
     "execution_count": 195,
     "metadata": {},
     "output_type": "execute_result"
    }
   ],
   "source": [
    "ncbi_seq = pd.DataFrame({\"id\": gen_ids, \"sequence\": seq_list})\n",
    "ncbi_seq.head(3)"
   ]
  },
  {
   "cell_type": "code",
   "execution_count": 196,
   "metadata": {},
   "outputs": [
    {
     "data": {
      "text/plain": [
       "(4488, 2)"
      ]
     },
     "execution_count": 196,
     "metadata": {},
     "output_type": "execute_result"
    }
   ],
   "source": [
    "ncbi_seq.shape"
   ]
  },
  {
   "cell_type": "markdown",
   "metadata": {},
   "source": [
    "### 1.3.3 Merge NCBI ann and sequence"
   ]
  },
  {
   "cell_type": "code",
   "execution_count": 197,
   "metadata": {},
   "outputs": [
    {
     "data": {
      "text/html": [
       "<div>\n",
       "<style scoped>\n",
       "    .dataframe tbody tr th:only-of-type {\n",
       "        vertical-align: middle;\n",
       "    }\n",
       "\n",
       "    .dataframe tbody tr th {\n",
       "        vertical-align: top;\n",
       "    }\n",
       "\n",
       "    .dataframe thead th {\n",
       "        text-align: right;\n",
       "    }\n",
       "</style>\n",
       "<table border=\"1\" class=\"dataframe\">\n",
       "  <thead>\n",
       "    <tr style=\"text-align: right;\">\n",
       "      <th></th>\n",
       "      <th>locus_tag</th>\n",
       "      <th>name</th>\n",
       "      <th>location</th>\n",
       "      <th>old_locus_tag</th>\n",
       "      <th>product</th>\n",
       "      <th>note</th>\n",
       "      <th>start</th>\n",
       "      <th>end</th>\n",
       "      <th>id</th>\n",
       "      <th>sequence</th>\n",
       "    </tr>\n",
       "  </thead>\n",
       "  <tbody>\n",
       "    <tr>\n",
       "      <td>0</td>\n",
       "      <td>ECB_RS00005</td>\n",
       "      <td>thrL</td>\n",
       "      <td>[189:255](+)</td>\n",
       "      <td>ECB_00001</td>\n",
       "      <td>thr operon leader peptide</td>\n",
       "      <td>Derived by automated computational analysis us...</td>\n",
       "      <td>189</td>\n",
       "      <td>255</td>\n",
       "      <td>ECB_RS00005</td>\n",
       "      <td>ATGAAACGCATTAGCACCACCATTACCACCACCATCACCATTACCA...</td>\n",
       "    </tr>\n",
       "    <tr>\n",
       "      <td>1</td>\n",
       "      <td>ECB_RS00010</td>\n",
       "      <td>thrA</td>\n",
       "      <td>[335:2798](+)</td>\n",
       "      <td>ECB_00002</td>\n",
       "      <td>bifunctional aspartate kinase/homoserine dehyd...</td>\n",
       "      <td>Derived by automated computational analysis us...</td>\n",
       "      <td>335</td>\n",
       "      <td>2798</td>\n",
       "      <td>ECB_RS00010</td>\n",
       "      <td>ATGCGAGTGTTGAAGTTCGGCGGTACATCAGTGGCAAATGCAGAAC...</td>\n",
       "    </tr>\n",
       "    <tr>\n",
       "      <td>2</td>\n",
       "      <td>ECB_RS00015</td>\n",
       "      <td>thrB</td>\n",
       "      <td>[2799:3732](+)</td>\n",
       "      <td>ECB_00003</td>\n",
       "      <td>homoserine kinase</td>\n",
       "      <td>Derived by automated computational analysis us...</td>\n",
       "      <td>2799</td>\n",
       "      <td>3732</td>\n",
       "      <td>ECB_RS00015</td>\n",
       "      <td>ATGGTTAAAGTTTATGCCCCGGCTTCCAGTGCCAATATGAGCGTCG...</td>\n",
       "    </tr>\n",
       "  </tbody>\n",
       "</table>\n",
       "</div>"
      ],
      "text/plain": [
       "     locus_tag  name        location old_locus_tag  \\\n",
       "0  ECB_RS00005  thrL    [189:255](+)     ECB_00001   \n",
       "1  ECB_RS00010  thrA   [335:2798](+)     ECB_00002   \n",
       "2  ECB_RS00015  thrB  [2799:3732](+)     ECB_00003   \n",
       "\n",
       "                                             product  \\\n",
       "0                          thr operon leader peptide   \n",
       "1  bifunctional aspartate kinase/homoserine dehyd...   \n",
       "2                                  homoserine kinase   \n",
       "\n",
       "                                                note  start   end  \\\n",
       "0  Derived by automated computational analysis us...    189   255   \n",
       "1  Derived by automated computational analysis us...    335  2798   \n",
       "2  Derived by automated computational analysis us...   2799  3732   \n",
       "\n",
       "            id                                           sequence  \n",
       "0  ECB_RS00005  ATGAAACGCATTAGCACCACCATTACCACCACCATCACCATTACCA...  \n",
       "1  ECB_RS00010  ATGCGAGTGTTGAAGTTCGGCGGTACATCAGTGGCAAATGCAGAAC...  \n",
       "2  ECB_RS00015  ATGGTTAAAGTTTATGCCCCGGCTTCCAGTGCCAATATGAGCGTCG...  "
      ]
     },
     "execution_count": 197,
     "metadata": {},
     "output_type": "execute_result"
    }
   ],
   "source": [
    "ncbi_info = pd.merge(\n",
    "    ncbi_ann, ncbi_seq,\n",
    "    how = \"left\",\n",
    "    left_on = 'locus_tag',\n",
    "    right_on = \"id\"\n",
    ")\n",
    "ncbi_info.head(3)"
   ]
  },
  {
   "cell_type": "code",
   "execution_count": 198,
   "metadata": {},
   "outputs": [
    {
     "data": {
      "text/html": [
       "<div>\n",
       "<style scoped>\n",
       "    .dataframe tbody tr th:only-of-type {\n",
       "        vertical-align: middle;\n",
       "    }\n",
       "\n",
       "    .dataframe tbody tr th {\n",
       "        vertical-align: top;\n",
       "    }\n",
       "\n",
       "    .dataframe thead th {\n",
       "        text-align: right;\n",
       "    }\n",
       "</style>\n",
       "<table border=\"1\" class=\"dataframe\">\n",
       "  <thead>\n",
       "    <tr style=\"text-align: right;\">\n",
       "      <th></th>\n",
       "      <th>locus_tag</th>\n",
       "      <th>name</th>\n",
       "      <th>location</th>\n",
       "      <th>old_locus_tag</th>\n",
       "      <th>product</th>\n",
       "      <th>note</th>\n",
       "      <th>start</th>\n",
       "      <th>end</th>\n",
       "      <th>sequence</th>\n",
       "    </tr>\n",
       "  </thead>\n",
       "  <tbody>\n",
       "    <tr>\n",
       "      <td>0</td>\n",
       "      <td>ECB_RS00005</td>\n",
       "      <td>thrL</td>\n",
       "      <td>[189:255](+)</td>\n",
       "      <td>ECB_00001</td>\n",
       "      <td>thr operon leader peptide</td>\n",
       "      <td>Derived by automated computational analysis us...</td>\n",
       "      <td>189</td>\n",
       "      <td>255</td>\n",
       "      <td>ATGAAACGCATTAGCACCACCATTACCACCACCATCACCATTACCA...</td>\n",
       "    </tr>\n",
       "    <tr>\n",
       "      <td>1</td>\n",
       "      <td>ECB_RS00010</td>\n",
       "      <td>thrA</td>\n",
       "      <td>[335:2798](+)</td>\n",
       "      <td>ECB_00002</td>\n",
       "      <td>bifunctional aspartate kinase/homoserine dehyd...</td>\n",
       "      <td>Derived by automated computational analysis us...</td>\n",
       "      <td>335</td>\n",
       "      <td>2798</td>\n",
       "      <td>ATGCGAGTGTTGAAGTTCGGCGGTACATCAGTGGCAAATGCAGAAC...</td>\n",
       "    </tr>\n",
       "    <tr>\n",
       "      <td>2</td>\n",
       "      <td>ECB_RS00015</td>\n",
       "      <td>thrB</td>\n",
       "      <td>[2799:3732](+)</td>\n",
       "      <td>ECB_00003</td>\n",
       "      <td>homoserine kinase</td>\n",
       "      <td>Derived by automated computational analysis us...</td>\n",
       "      <td>2799</td>\n",
       "      <td>3732</td>\n",
       "      <td>ATGGTTAAAGTTTATGCCCCGGCTTCCAGTGCCAATATGAGCGTCG...</td>\n",
       "    </tr>\n",
       "  </tbody>\n",
       "</table>\n",
       "</div>"
      ],
      "text/plain": [
       "     locus_tag  name        location old_locus_tag  \\\n",
       "0  ECB_RS00005  thrL    [189:255](+)     ECB_00001   \n",
       "1  ECB_RS00010  thrA   [335:2798](+)     ECB_00002   \n",
       "2  ECB_RS00015  thrB  [2799:3732](+)     ECB_00003   \n",
       "\n",
       "                                             product  \\\n",
       "0                          thr operon leader peptide   \n",
       "1  bifunctional aspartate kinase/homoserine dehyd...   \n",
       "2                                  homoserine kinase   \n",
       "\n",
       "                                                note  start   end  \\\n",
       "0  Derived by automated computational analysis us...    189   255   \n",
       "1  Derived by automated computational analysis us...    335  2798   \n",
       "2  Derived by automated computational analysis us...   2799  3732   \n",
       "\n",
       "                                            sequence  \n",
       "0  ATGAAACGCATTAGCACCACCATTACCACCACCATCACCATTACCA...  \n",
       "1  ATGCGAGTGTTGAAGTTCGGCGGTACATCAGTGGCAAATGCAGAAC...  \n",
       "2  ATGGTTAAAGTTTATGCCCCGGCTTCCAGTGCCAATATGAGCGTCG...  "
      ]
     },
     "execution_count": 198,
     "metadata": {},
     "output_type": "execute_result"
    }
   ],
   "source": [
    "ncbi_info.drop([\"id\"], axis=1, inplace=True)\n",
    "ncbi_info.head(3)"
   ]
  },
  {
   "cell_type": "code",
   "execution_count": 199,
   "metadata": {},
   "outputs": [
    {
     "data": {
      "text/plain": [
       "2151"
      ]
     },
     "execution_count": 199,
     "metadata": {},
     "output_type": "execute_result"
    }
   ],
   "source": [
    "ncbi_info.name.isna().sum()"
   ]
  },
  {
   "cell_type": "code",
   "execution_count": 200,
   "metadata": {},
   "outputs": [
    {
     "data": {
      "text/plain": [
       "(4488, 9)"
      ]
     },
     "execution_count": 200,
     "metadata": {},
     "output_type": "execute_result"
    }
   ],
   "source": [
    "ncbi_info.shape"
   ]
  },
  {
   "cell_type": "code",
   "execution_count": 201,
   "metadata": {},
   "outputs": [],
   "source": [
    "ncbi_info.to_csv(\"HelpFiles/NCBI_EcoliBREL606_annseq.csv\")"
   ]
  },
  {
   "cell_type": "code",
   "execution_count": null,
   "metadata": {},
   "outputs": [],
   "source": []
  }
 ],
 "metadata": {
  "kernelspec": {
   "display_name": "Python 3",
   "language": "python",
   "name": "python3"
  },
  "language_info": {
   "codemirror_mode": {
    "name": "ipython",
    "version": 3
   },
   "file_extension": ".py",
   "mimetype": "text/x-python",
   "name": "python",
   "nbconvert_exporter": "python",
   "pygments_lexer": "ipython3",
   "version": "3.7.4"
  }
 },
 "nbformat": 4,
 "nbformat_minor": 2
}
