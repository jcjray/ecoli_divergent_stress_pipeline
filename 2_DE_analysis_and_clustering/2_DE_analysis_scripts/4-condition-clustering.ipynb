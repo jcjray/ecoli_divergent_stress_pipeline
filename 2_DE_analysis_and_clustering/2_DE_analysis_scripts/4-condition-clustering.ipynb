{
 "cells": [
  {
   "cell_type": "markdown",
   "metadata": {},
   "source": [
    "# DE_ConditionCluster\n",
    "\n",
    "In RNA sequencing analysis, we have 5 conditions in total, including as followings:\n",
    "- pre-ampicillin lactose 0.1 mg/ml\n",
    "- pre-ampcillin lactose 2.5 mg/ml\n",
    "- pre-ampcillin lactose 50 mg/ml\n",
    "\n",
    "Usering differential expression analysis of above dataset with comparison to *pre-ampcillin lactose 2.5 mg/ml* condition, we got 2 comparisons. Here, I'd like to compare these differential expression results and cluster them.\n",
    "\n",
    "# 1. Import DE Results\n",
    "\n",
    "Here we import both differential expression analysis files and the original gene count file. Here, we sequenced in totall 4211 genes, where GFP is a solo exogenous gene. we've got 25 biological replica in total. Comparing the normalized count data and the original count data, we observe the differences in replica number, where we droped 1 replica as outlier for this analysis. \n",
    "\n",
    "Note: all data is tidy."
   ]
  },
  {
   "cell_type": "code",
   "execution_count": 51,
   "metadata": {},
   "outputs": [],
   "source": [
    "# import packages\n",
    "import pandas as pd\n",
    "import numpy as np\n",
    "from sklearn import preprocessing\n",
    "from sklearn.cluster import AgglomerativeClustering\n",
    "from sklearn.metrics import adjusted_rand_score\n",
    "from scipy.cluster.hierarchy import linkage\n",
    "from scipy.cluster.hierarchy import dendrogram\n",
    "import matplotlib.pyplot as plt\n",
    "%matplotlib inline"
   ]
  },
  {
   "cell_type": "code",
   "execution_count": 52,
   "metadata": {},
   "outputs": [],
   "source": [
    "# import differential expression data\n",
    "de_01_vs_25_file = \"../../5-16-20-OveralResults/2-With-amp/DE-CSVs/pre_lac25/pre_lac01_vs_pre_lac25.csv\"\n",
    "de_50_vs_25_file = \"../../5-16-20-OveralResults/2-With-amp/DE-CSVs/pre_lac25/pre_lac50_vs_pre_lac25.csv\"\n",
    "\n",
    "pre_lac50_vs_pre_lac25 = pd.read_csv(de_50_vs_25_file, header=0, index_col=0).sort_index()\n",
    "pre_lac01_vs_pre_lac25 = pd.read_csv(de_01_vs_25_file, header=0, index_col=0).sort_index()"
   ]
  },
  {
   "cell_type": "code",
   "execution_count": 53,
   "metadata": {},
   "outputs": [],
   "source": [
    "# screen out data that are not significant \n",
    "pre_lac50_vs_pre_lac25.loc[pre_lac50_vs_pre_lac25.padj>0.05, \"log2FoldChange\"]=0.0\n",
    "pre_lac01_vs_pre_lac25.loc[pre_lac01_vs_pre_lac25.padj>0.05, \"log2FoldChange\"]=0.0"
   ]
  },
  {
   "cell_type": "code",
   "execution_count": 54,
   "metadata": {
    "scrolled": true
   },
   "outputs": [
    {
     "data": {
      "text/html": [
       "<div>\n",
       "<style scoped>\n",
       "    .dataframe tbody tr th:only-of-type {\n",
       "        vertical-align: middle;\n",
       "    }\n",
       "\n",
       "    .dataframe tbody tr th {\n",
       "        vertical-align: top;\n",
       "    }\n",
       "\n",
       "    .dataframe thead th {\n",
       "        text-align: right;\n",
       "    }\n",
       "</style>\n",
       "<table border=\"1\" class=\"dataframe\">\n",
       "  <thead>\n",
       "    <tr style=\"text-align: right;\">\n",
       "      <th></th>\n",
       "      <th>baseMean</th>\n",
       "      <th>log2FoldChange</th>\n",
       "      <th>lfcSE</th>\n",
       "      <th>pvalue</th>\n",
       "      <th>padj</th>\n",
       "    </tr>\n",
       "  </thead>\n",
       "  <tbody>\n",
       "    <tr>\n",
       "      <td>ECB_RS00005</td>\n",
       "      <td>282.768805</td>\n",
       "      <td>0.000000</td>\n",
       "      <td>0.330984</td>\n",
       "      <td>1.726862e-01</td>\n",
       "      <td>2.038443e-01</td>\n",
       "    </tr>\n",
       "    <tr>\n",
       "      <td>ECB_RS00010</td>\n",
       "      <td>414.621461</td>\n",
       "      <td>-2.484222</td>\n",
       "      <td>0.223234</td>\n",
       "      <td>1.178223e-29</td>\n",
       "      <td>6.528230e-28</td>\n",
       "    </tr>\n",
       "    <tr>\n",
       "      <td>ECB_RS00015</td>\n",
       "      <td>125.144424</td>\n",
       "      <td>-1.859210</td>\n",
       "      <td>0.235154</td>\n",
       "      <td>6.392272e-16</td>\n",
       "      <td>6.534970e-15</td>\n",
       "    </tr>\n",
       "  </tbody>\n",
       "</table>\n",
       "</div>"
      ],
      "text/plain": [
       "               baseMean  log2FoldChange     lfcSE        pvalue          padj\n",
       "ECB_RS00005  282.768805        0.000000  0.330984  1.726862e-01  2.038443e-01\n",
       "ECB_RS00010  414.621461       -2.484222  0.223234  1.178223e-29  6.528230e-28\n",
       "ECB_RS00015  125.144424       -1.859210  0.235154  6.392272e-16  6.534970e-15"
      ]
     },
     "execution_count": 54,
     "metadata": {},
     "output_type": "execute_result"
    }
   ],
   "source": [
    "pre_lac50_vs_pre_lac25.head(3)"
   ]
  },
  {
   "cell_type": "code",
   "execution_count": 55,
   "metadata": {},
   "outputs": [
    {
     "data": {
      "text/plain": [
       "(4490, 4490)"
      ]
     },
     "execution_count": 55,
     "metadata": {},
     "output_type": "execute_result"
    }
   ],
   "source": [
    "len(pre_lac50_vs_pre_lac25), len(pre_lac01_vs_pre_lac25)"
   ]
  },
  {
   "cell_type": "code",
   "execution_count": 56,
   "metadata": {},
   "outputs": [
    {
     "data": {
      "text/html": [
       "<div>\n",
       "<style scoped>\n",
       "    .dataframe tbody tr th:only-of-type {\n",
       "        vertical-align: middle;\n",
       "    }\n",
       "\n",
       "    .dataframe tbody tr th {\n",
       "        vertical-align: top;\n",
       "    }\n",
       "\n",
       "    .dataframe thead th {\n",
       "        text-align: right;\n",
       "    }\n",
       "</style>\n",
       "<table border=\"1\" class=\"dataframe\">\n",
       "  <thead>\n",
       "    <tr style=\"text-align: right;\">\n",
       "      <th></th>\n",
       "      <th>T1-L50-02</th>\n",
       "      <th>OD-L25-01</th>\n",
       "      <th>OD-L01-01</th>\n",
       "      <th>T1-L50-03</th>\n",
       "      <th>T1-L50-01</th>\n",
       "      <th>OD-L25-02</th>\n",
       "      <th>T0-L01-08</th>\n",
       "      <th>OD-L01-02</th>\n",
       "      <th>OD-L25-03</th>\n",
       "      <th>T1-L50-04</th>\n",
       "      <th>...</th>\n",
       "      <th>T0-L01-02</th>\n",
       "      <th>T0-L25-14</th>\n",
       "      <th>T1-L50-08</th>\n",
       "      <th>T1-L50-09</th>\n",
       "      <th>T0-L25-15</th>\n",
       "      <th>T0-L01-05</th>\n",
       "      <th>T0-L25-10</th>\n",
       "      <th>T0-L01-12</th>\n",
       "      <th>T0-L01-06</th>\n",
       "      <th>T0-L25-13</th>\n",
       "    </tr>\n",
       "  </thead>\n",
       "  <tbody>\n",
       "    <tr>\n",
       "      <td>ECB_RS00005</td>\n",
       "      <td>51.0</td>\n",
       "      <td>388.0</td>\n",
       "      <td>137.0</td>\n",
       "      <td>24.0</td>\n",
       "      <td>43.0</td>\n",
       "      <td>239.0</td>\n",
       "      <td>355.0</td>\n",
       "      <td>76.0</td>\n",
       "      <td>453.0</td>\n",
       "      <td>64.0</td>\n",
       "      <td>...</td>\n",
       "      <td>89.0</td>\n",
       "      <td>969.0</td>\n",
       "      <td>17.0</td>\n",
       "      <td>31.0</td>\n",
       "      <td>689.0</td>\n",
       "      <td>439.0</td>\n",
       "      <td>3.0</td>\n",
       "      <td>234.0</td>\n",
       "      <td>424.0</td>\n",
       "      <td>520.0</td>\n",
       "    </tr>\n",
       "    <tr>\n",
       "      <td>ECB_RS00010</td>\n",
       "      <td>999.0</td>\n",
       "      <td>4459.0</td>\n",
       "      <td>44.0</td>\n",
       "      <td>750.0</td>\n",
       "      <td>771.0</td>\n",
       "      <td>3179.0</td>\n",
       "      <td>27.0</td>\n",
       "      <td>16.0</td>\n",
       "      <td>2578.0</td>\n",
       "      <td>1066.0</td>\n",
       "      <td>...</td>\n",
       "      <td>6.0</td>\n",
       "      <td>761.0</td>\n",
       "      <td>558.0</td>\n",
       "      <td>1007.0</td>\n",
       "      <td>579.0</td>\n",
       "      <td>111.0</td>\n",
       "      <td>4.0</td>\n",
       "      <td>15.0</td>\n",
       "      <td>79.0</td>\n",
       "      <td>642.0</td>\n",
       "    </tr>\n",
       "    <tr>\n",
       "      <td>ECB_RS00015</td>\n",
       "      <td>274.0</td>\n",
       "      <td>797.0</td>\n",
       "      <td>17.0</td>\n",
       "      <td>240.0</td>\n",
       "      <td>222.0</td>\n",
       "      <td>1015.0</td>\n",
       "      <td>11.0</td>\n",
       "      <td>8.0</td>\n",
       "      <td>677.0</td>\n",
       "      <td>297.0</td>\n",
       "      <td>...</td>\n",
       "      <td>3.0</td>\n",
       "      <td>192.0</td>\n",
       "      <td>209.0</td>\n",
       "      <td>357.0</td>\n",
       "      <td>153.0</td>\n",
       "      <td>46.0</td>\n",
       "      <td>3.0</td>\n",
       "      <td>9.0</td>\n",
       "      <td>33.0</td>\n",
       "      <td>166.0</td>\n",
       "    </tr>\n",
       "  </tbody>\n",
       "</table>\n",
       "<p>3 rows × 43 columns</p>\n",
       "</div>"
      ],
      "text/plain": [
       "             T1-L50-02  OD-L25-01  OD-L01-01  T1-L50-03  T1-L50-01  OD-L25-02  \\\n",
       "ECB_RS00005       51.0      388.0      137.0       24.0       43.0      239.0   \n",
       "ECB_RS00010      999.0     4459.0       44.0      750.0      771.0     3179.0   \n",
       "ECB_RS00015      274.0      797.0       17.0      240.0      222.0     1015.0   \n",
       "\n",
       "             T0-L01-08  OD-L01-02  OD-L25-03  T1-L50-04  ...  T0-L01-02  \\\n",
       "ECB_RS00005      355.0       76.0      453.0       64.0  ...       89.0   \n",
       "ECB_RS00010       27.0       16.0     2578.0     1066.0  ...        6.0   \n",
       "ECB_RS00015       11.0        8.0      677.0      297.0  ...        3.0   \n",
       "\n",
       "             T0-L25-14  T1-L50-08  T1-L50-09  T0-L25-15  T0-L01-05  T0-L25-10  \\\n",
       "ECB_RS00005      969.0       17.0       31.0      689.0      439.0        3.0   \n",
       "ECB_RS00010      761.0      558.0     1007.0      579.0      111.0        4.0   \n",
       "ECB_RS00015      192.0      209.0      357.0      153.0       46.0        3.0   \n",
       "\n",
       "             T0-L01-12  T0-L01-06  T0-L25-13  \n",
       "ECB_RS00005      234.0      424.0      520.0  \n",
       "ECB_RS00010       15.0       79.0      642.0  \n",
       "ECB_RS00015        9.0       33.0      166.0  \n",
       "\n",
       "[3 rows x 43 columns]"
      ]
     },
     "execution_count": 56,
     "metadata": {},
     "output_type": "execute_result"
    }
   ],
   "source": [
    "# import original gene count data\n",
    "ori_count = pd.read_csv(\"countdata.txt\", header=0, index_col=0, sep=\"\\t\")\n",
    "ori_count.head(3)"
   ]
  },
  {
   "cell_type": "code",
   "execution_count": 57,
   "metadata": {},
   "outputs": [
    {
     "data": {
      "text/html": [
       "<div>\n",
       "<style scoped>\n",
       "    .dataframe tbody tr th:only-of-type {\n",
       "        vertical-align: middle;\n",
       "    }\n",
       "\n",
       "    .dataframe tbody tr th {\n",
       "        vertical-align: top;\n",
       "    }\n",
       "\n",
       "    .dataframe thead th {\n",
       "        text-align: right;\n",
       "    }\n",
       "</style>\n",
       "<table border=\"1\" class=\"dataframe\">\n",
       "  <thead>\n",
       "    <tr style=\"text-align: right;\">\n",
       "      <th></th>\n",
       "      <th>pst_lac50_01</th>\n",
       "      <th>pre_lac25_02</th>\n",
       "      <th>pre_lac01_03</th>\n",
       "      <th>pst_lac50_04</th>\n",
       "      <th>pst_lac50_05</th>\n",
       "      <th>pre_lac25_06</th>\n",
       "      <th>pre_lac01_07</th>\n",
       "      <th>pre_lac01_08</th>\n",
       "      <th>pre_lac25_09</th>\n",
       "      <th>pst_lac50_10</th>\n",
       "      <th>...</th>\n",
       "      <th>pst_lac01_31</th>\n",
       "      <th>pre_lac01_32</th>\n",
       "      <th>pre_lac25_33</th>\n",
       "      <th>pst_lac50_34</th>\n",
       "      <th>pst_lac50_35</th>\n",
       "      <th>pre_lac25_36</th>\n",
       "      <th>pre_lac01_37</th>\n",
       "      <th>pre_lac01_38</th>\n",
       "      <th>pre_lac01_39</th>\n",
       "      <th>pre_lac25_40</th>\n",
       "    </tr>\n",
       "  </thead>\n",
       "  <tbody>\n",
       "    <tr>\n",
       "      <td>ECB_RS00005</td>\n",
       "      <td>14.164662</td>\n",
       "      <td>178.501030</td>\n",
       "      <td>305.053802</td>\n",
       "      <td>8.365708</td>\n",
       "      <td>14.767812</td>\n",
       "      <td>143.576313</td>\n",
       "      <td>745.874487</td>\n",
       "      <td>473.835395</td>\n",
       "      <td>310.037118</td>\n",
       "      <td>16.217577</td>\n",
       "      <td>...</td>\n",
       "      <td>217.523183</td>\n",
       "      <td>621.658801</td>\n",
       "      <td>717.073636</td>\n",
       "      <td>7.377962</td>\n",
       "      <td>8.310966</td>\n",
       "      <td>672.231734</td>\n",
       "      <td>480.087030</td>\n",
       "      <td>916.141222</td>\n",
       "      <td>601.209884</td>\n",
       "      <td>454.082584</td>\n",
       "    </tr>\n",
       "    <tr>\n",
       "      <td>ECB_RS00010</td>\n",
       "      <td>277.460729</td>\n",
       "      <td>2051.381679</td>\n",
       "      <td>97.973484</td>\n",
       "      <td>261.428387</td>\n",
       "      <td>264.790301</td>\n",
       "      <td>1909.745185</td>\n",
       "      <td>56.728482</td>\n",
       "      <td>99.754820</td>\n",
       "      <td>1764.405496</td>\n",
       "      <td>270.124012</td>\n",
       "      <td>...</td>\n",
       "      <td>188.241216</td>\n",
       "      <td>41.909582</td>\n",
       "      <td>563.150709</td>\n",
       "      <td>242.170767</td>\n",
       "      <td>269.972351</td>\n",
       "      <td>564.908816</td>\n",
       "      <td>121.388748</td>\n",
       "      <td>58.727001</td>\n",
       "      <td>112.017879</td>\n",
       "      <td>560.617344</td>\n",
       "    </tr>\n",
       "    <tr>\n",
       "      <td>ECB_RS00015</td>\n",
       "      <td>76.100340</td>\n",
       "      <td>366.663198</td>\n",
       "      <td>37.853391</td>\n",
       "      <td>83.657084</td>\n",
       "      <td>76.243122</td>\n",
       "      <td>609.748777</td>\n",
       "      <td>23.111604</td>\n",
       "      <td>49.877410</td>\n",
       "      <td>463.344655</td>\n",
       "      <td>75.259692</td>\n",
       "      <td>...</td>\n",
       "      <td>93.074824</td>\n",
       "      <td>20.954791</td>\n",
       "      <td>142.082702</td>\n",
       "      <td>90.705538</td>\n",
       "      <td>95.710158</td>\n",
       "      <td>149.276423</td>\n",
       "      <td>50.305247</td>\n",
       "      <td>35.236201</td>\n",
       "      <td>46.792279</td>\n",
       "      <td>144.957133</td>\n",
       "    </tr>\n",
       "  </tbody>\n",
       "</table>\n",
       "<p>3 rows × 40 columns</p>\n",
       "</div>"
      ],
      "text/plain": [
       "             pst_lac50_01  pre_lac25_02  pre_lac01_03  pst_lac50_04  \\\n",
       "ECB_RS00005     14.164662    178.501030    305.053802      8.365708   \n",
       "ECB_RS00010    277.460729   2051.381679     97.973484    261.428387   \n",
       "ECB_RS00015     76.100340    366.663198     37.853391     83.657084   \n",
       "\n",
       "             pst_lac50_05  pre_lac25_06  pre_lac01_07  pre_lac01_08  \\\n",
       "ECB_RS00005     14.767812    143.576313    745.874487    473.835395   \n",
       "ECB_RS00010    264.790301   1909.745185     56.728482     99.754820   \n",
       "ECB_RS00015     76.243122    609.748777     23.111604     49.877410   \n",
       "\n",
       "             pre_lac25_09  pst_lac50_10  ...  pst_lac01_31  pre_lac01_32  \\\n",
       "ECB_RS00005    310.037118     16.217577  ...    217.523183    621.658801   \n",
       "ECB_RS00010   1764.405496    270.124012  ...    188.241216     41.909582   \n",
       "ECB_RS00015    463.344655     75.259692  ...     93.074824     20.954791   \n",
       "\n",
       "             pre_lac25_33  pst_lac50_34  pst_lac50_35  pre_lac25_36  \\\n",
       "ECB_RS00005    717.073636      7.377962      8.310966    672.231734   \n",
       "ECB_RS00010    563.150709    242.170767    269.972351    564.908816   \n",
       "ECB_RS00015    142.082702     90.705538     95.710158    149.276423   \n",
       "\n",
       "             pre_lac01_37  pre_lac01_38  pre_lac01_39  pre_lac25_40  \n",
       "ECB_RS00005    480.087030    916.141222    601.209884    454.082584  \n",
       "ECB_RS00010    121.388748     58.727001    112.017879    560.617344  \n",
       "ECB_RS00015     50.305247     35.236201     46.792279    144.957133  \n",
       "\n",
       "[3 rows x 40 columns]"
      ]
     },
     "execution_count": 57,
     "metadata": {},
     "output_type": "execute_result"
    }
   ],
   "source": [
    "# import normalized gene count data\n",
    "norm_count = pd.read_csv(\"../../5-16-20-OveralResults/2-With-amp/DE-CSVs/norm_count.csv\", header=0, index_col=0)\n",
    "norm_count.head(3)"
   ]
  },
  {
   "cell_type": "code",
   "execution_count": 58,
   "metadata": {},
   "outputs": [
    {
     "data": {
      "text/plain": [
       "(4490, 40)"
      ]
     },
     "execution_count": 58,
     "metadata": {},
     "output_type": "execute_result"
    }
   ],
   "source": [
    "norm_count.shape"
   ]
  },
  {
   "cell_type": "markdown",
   "metadata": {},
   "source": [
    "### 1.1 Prepare Differential Analysis Results for Clustering\n",
    "\n",
    "Considering multiple different clustering methods, as shown in following link, I choose RBS SVM for clustering the replica data:\n",
    "https://scikit-learn.org/stable/auto_examples/classification/plot_classifier_comparison.html\n",
    "\n",
    "For preparing for clustering, I'd like to set each column of *norm_count* as a list, and label them based on conditions. "
   ]
  },
  {
   "cell_type": "code",
   "execution_count": 59,
   "metadata": {},
   "outputs": [
    {
     "data": {
      "text/plain": [
       "array([[1.41646618e+01, 2.77460729e+02, 7.61003401e+01, ...,\n",
       "        5.86028167e+01, 1.31370295e+02, 2.77738468e+00],\n",
       "       [1.78501030e+02, 2.05138168e+03, 3.66663198e+02, ...,\n",
       "        1.19614092e+01, 4.33463067e+03, 0.00000000e+00],\n",
       "       [3.05053802e+02, 9.79734838e+01, 3.78533915e+01, ...,\n",
       "        0.00000000e+00, 4.72054059e+03, 6.68001026e+00]])"
      ]
     },
     "execution_count": 59,
     "metadata": {},
     "output_type": "execute_result"
    }
   ],
   "source": [
    "X = np.asarray(norm_count.transpose())\n",
    "X[0:3]"
   ]
  },
  {
   "cell_type": "markdown",
   "metadata": {},
   "source": [
    "Here we observe that for different genes, there scale are different. Thus lets normalize the dataset so that each dimentsion lies between 0 and 1, so they have equal weright in the clustering process. "
   ]
  },
  {
   "cell_type": "code",
   "execution_count": 60,
   "metadata": {},
   "outputs": [
    {
     "data": {
      "text/plain": [
       "array([[2.01794363e-03, 3.95279546e-02, 1.08415011e-02, ...,\n",
       "        8.34874717e-03, 1.87154380e-02, 3.95675221e-04],\n",
       "       [8.07347786e-04, 9.27825716e-03, 1.65839223e-03, ...,\n",
       "        5.41006248e-05, 1.96052341e-02, 0.00000000e+00],\n",
       "       [1.41608812e-04, 4.54802025e-05, 1.75718964e-05, ...,\n",
       "        0.00000000e+00, 2.19131885e-03, 3.10092290e-06]])"
      ]
     },
     "execution_count": 60,
     "metadata": {},
     "output_type": "execute_result"
    }
   ],
   "source": [
    "normalized_X = preprocessing.normalize(X)\n",
    "normalized_X[:3]"
   ]
  },
  {
   "cell_type": "code",
   "execution_count": 61,
   "metadata": {},
   "outputs": [
    {
     "data": {
      "text/plain": [
       "Index(['pst_lac50', 'pre_lac25', 'pre_lac01', 'pst_lac01', 'pre_lac50'], dtype='object')"
      ]
     },
     "execution_count": 61,
     "metadata": {},
     "output_type": "execute_result"
    }
   ],
   "source": [
    "y = norm_count.columns.str.slice(0,9)\n",
    "y.unique()"
   ]
  },
  {
   "cell_type": "markdown",
   "metadata": {},
   "source": [
    "# 2. Heirarchical Clustering"
   ]
  },
  {
   "cell_type": "code",
   "execution_count": 62,
   "metadata": {},
   "outputs": [],
   "source": [
    "# Hierarchical clustering\n",
    "# Ward is the default linkage algorithm, so we'll start with that\n",
    "ward = AgglomerativeClustering(n_clusters=5)\n",
    "ward_pred = ward.fit_predict(normalized_X)"
   ]
  },
  {
   "cell_type": "code",
   "execution_count": 63,
   "metadata": {},
   "outputs": [
    {
     "data": {
      "text/plain": [
       "0.559675550405562"
      ]
     },
     "execution_count": 63,
     "metadata": {},
     "output_type": "execute_result"
    }
   ],
   "source": [
    "ward_ar_score = adjusted_rand_score(y, ward_pred)\n",
    "ward_ar_score"
   ]
  },
  {
   "cell_type": "code",
   "execution_count": 64,
   "metadata": {},
   "outputs": [
    {
     "data": {
      "text/plain": [
       "Index(['pst_lac50', 'pre_lac25', 'pre_lac01', 'pst_lac50', 'pst_lac50',\n",
       "       'pre_lac25', 'pre_lac01', 'pre_lac01', 'pre_lac25', 'pst_lac50',\n",
       "       'pst_lac50', 'pst_lac50', 'pre_lac25', 'pst_lac50', 'pst_lac50',\n",
       "       'pre_lac25', 'pst_lac01', 'pst_lac01', 'pst_lac01', 'pst_lac01',\n",
       "       'pst_lac01', 'pre_lac50', 'pre_lac50', 'pre_lac50', 'pre_lac50',\n",
       "       'pre_lac50', 'pre_lac50', 'pre_lac50', 'pst_lac01', 'pre_lac50',\n",
       "       'pst_lac01', 'pre_lac01', 'pre_lac25', 'pst_lac50', 'pst_lac50',\n",
       "       'pre_lac25', 'pre_lac01', 'pre_lac01', 'pre_lac01', 'pre_lac25'],\n",
       "      dtype='object')"
      ]
     },
     "execution_count": 64,
     "metadata": {},
     "output_type": "execute_result"
    }
   ],
   "source": [
    "y"
   ]
  },
  {
   "cell_type": "code",
   "execution_count": 65,
   "metadata": {},
   "outputs": [
    {
     "data": {
      "text/plain": [
       "array([1, 4, 0, 1, 1, 4, 0, 0, 4, 1, 1, 3, 4, 1, 3, 4, 0, 0, 0, 0, 0, 2,\n",
       "       2, 2, 2, 2, 2, 2, 0, 2, 2, 0, 2, 1, 1, 2, 0, 0, 0, 2])"
      ]
     },
     "execution_count": 65,
     "metadata": {},
     "output_type": "execute_result"
    }
   ],
   "source": [
    "ward.labels_"
   ]
  },
  {
   "cell_type": "markdown",
   "metadata": {},
   "source": [
    "# 3. Dendrogram visualization with scipy"
   ]
  },
  {
   "cell_type": "code",
   "execution_count": 66,
   "metadata": {},
   "outputs": [
    {
     "data": {
      "text/plain": [
       "array([[1.10000000e+01, 1.40000000e+01, 1.71520036e-02, 2.00000000e+00],\n",
       "       [3.20000000e+01, 3.50000000e+01, 3.37878753e-02, 2.00000000e+00],\n",
       "       [1.70000000e+01, 1.80000000e+01, 3.81967927e-02, 2.00000000e+00]])"
      ]
     },
     "execution_count": 66,
     "metadata": {},
     "output_type": "execute_result"
    }
   ],
   "source": [
    "# Specify the linkage type. Scipy accepts 'ward', 'complete', 'average', as well as other values\n",
    "# Pick the one that resulted in the highest Adjusted Rand Score\n",
    "linkage_type = 'ward'\n",
    "\n",
    "linkage_matrix = linkage(normalized_X, linkage_type)\n",
    "linkage_matrix[:3]"
   ]
  },
  {
   "cell_type": "code",
   "execution_count": 67,
   "metadata": {},
   "outputs": [
    {
     "data": {
      "text/plain": [
       "['amp Toxic 01',\n",
       " 'Moderate 02',\n",
       " 'Starving 03',\n",
       " 'amp Toxic 04',\n",
       " 'amp Toxic 05',\n",
       " 'Moderate 06',\n",
       " 'Starving 07',\n",
       " 'Starving 08',\n",
       " 'Moderate 09',\n",
       " 'amp Toxic 10',\n",
       " 'amp Toxic 11',\n",
       " 'amp Toxic 12',\n",
       " 'Moderate 13',\n",
       " 'amp Toxic 14',\n",
       " 'amp Toxic 15',\n",
       " 'Moderate 16',\n",
       " 'amp Starving 17',\n",
       " 'amp Starving 18',\n",
       " 'amp Starving 19',\n",
       " 'amp Starving 20',\n",
       " 'amp Starving 21',\n",
       " 'Toxic 22',\n",
       " 'Toxic 23',\n",
       " 'Toxic 24',\n",
       " 'Toxic 25',\n",
       " 'Toxic 26',\n",
       " 'Toxic 27',\n",
       " 'Toxic 28',\n",
       " 'amp Starving 29',\n",
       " 'Toxic 30',\n",
       " 'amp Starving 31',\n",
       " 'Starving 32',\n",
       " 'Moderate 33',\n",
       " 'amp Toxic 34',\n",
       " 'amp Toxic 35',\n",
       " 'Moderate 36',\n",
       " 'Starving 37',\n",
       " 'Starving 38',\n",
       " 'Starving 39',\n",
       " 'Moderate 40']"
      ]
     },
     "execution_count": 67,
     "metadata": {},
     "output_type": "execute_result"
    }
   ],
   "source": [
    "name_replace = {\n",
    "        \"pre_\": \"\",\n",
    "        \"lac01_\": \"Starving \",\n",
    "        \"lac25_\": \"Moderate \",\n",
    "        \"lac50_\": \"Toxic \",\n",
    "        \"pst_\": \"amp \" }\n",
    "sample_names = norm_count.columns.to_list()\n",
    "i = 0\n",
    "while i<len(sample_names):\n",
    "    name = sample_names[i]\n",
    "    for word, replace_word in name_replace.items():\n",
    "        name = name.replace(word, replace_word)\n",
    "        sample_names[i] = name\n",
    "    i = i+1\n",
    "sample_names"
   ]
  },
  {
   "cell_type": "code",
   "execution_count": 68,
   "metadata": {},
   "outputs": [
    {
     "data": {
      "image/png": "[encoded data removed]",
      "text/plain": [
       "<Figure size 504x432 with 1 Axes>"
      ]
     },
     "metadata": {
      "needs_background": "light"
     },
     "output_type": "display_data"
    }
   ],
   "source": [
    "plt.figure(figsize=(7,6))\n",
    "\n",
    "# plot using 'dendrogram()'\n",
    "den = dendrogram(linkage_matrix, \n",
    "           labels=sample_names, \n",
    "           orientation='left',\n",
    "           color_threshold=0.89)\n",
    "plt.tight_layout()\n",
    "plt.savefig(\"HelpPlots/replicacluster.pdf\", dpi=200)\n",
    "plt.show()"
   ]
  },
  {
   "cell_type": "markdown",
   "metadata": {},
   "source": [
    "# 4. Condition similarity\n",
    "\n",
    "### 4.1 Introduce to similarity measures\n",
    "Five frequently used metric for measuring similarity are shown as following. \n",
    "Similarity based measures:\n",
    "- Pearson's correlation coefficient\n",
    "- Spearman's correlation coefficient\n",
    "- Kendall's Tau\n",
    "\n",
    "Diatance based measures:\n",
    "- Euclidean Distance\n",
    "- Manhattan Distance\n",
    "\n",
    "### 4.2 Plot heatmap by cluster\n",
    "We are using the same \"ward\" link for cluster calculation."
   ]
  },
  {
   "cell_type": "code",
   "execution_count": 69,
   "metadata": {},
   "outputs": [
    {
     "data": {
      "text/html": [
       "<div>\n",
       "<style scoped>\n",
       "    .dataframe tbody tr th:only-of-type {\n",
       "        vertical-align: middle;\n",
       "    }\n",
       "\n",
       "    .dataframe tbody tr th {\n",
       "        vertical-align: top;\n",
       "    }\n",
       "\n",
       "    .dataframe thead th {\n",
       "        text-align: right;\n",
       "    }\n",
       "</style>\n",
       "<table border=\"1\" class=\"dataframe\">\n",
       "  <thead>\n",
       "    <tr style=\"text-align: right;\">\n",
       "      <th></th>\n",
       "      <th>pre_lac50_vs_pre_lac25</th>\n",
       "      <th>pre_lac01_vs_pre_lac25</th>\n",
       "    </tr>\n",
       "  </thead>\n",
       "  <tbody>\n",
       "    <tr>\n",
       "      <td>ECB_RS00005</td>\n",
       "      <td>0.000000</td>\n",
       "      <td>0.695844</td>\n",
       "    </tr>\n",
       "    <tr>\n",
       "      <td>ECB_RS00010</td>\n",
       "      <td>-2.484222</td>\n",
       "      <td>-3.847213</td>\n",
       "    </tr>\n",
       "    <tr>\n",
       "      <td>ECB_RS00015</td>\n",
       "      <td>-1.859210</td>\n",
       "      <td>-3.057420</td>\n",
       "    </tr>\n",
       "  </tbody>\n",
       "</table>\n",
       "</div>"
      ],
      "text/plain": [
       "             pre_lac50_vs_pre_lac25  pre_lac01_vs_pre_lac25\n",
       "ECB_RS00005                0.000000                0.695844\n",
       "ECB_RS00010               -2.484222               -3.847213\n",
       "ECB_RS00015               -1.859210               -3.057420"
      ]
     },
     "execution_count": 69,
     "metadata": {},
     "output_type": "execute_result"
    }
   ],
   "source": [
    "# Create dataframe \n",
    "fcdf = pd.concat(\n",
    "    [\n",
    "        pre_lac50_vs_pre_lac25[\"log2FoldChange\"],\n",
    "        pre_lac01_vs_pre_lac25[\"log2FoldChange\"]\n",
    "    ],\n",
    "    join='outer', axis=1)\n",
    "fcdf.columns = ['pre_lac50_vs_pre_lac25', 'pre_lac01_vs_pre_lac25']\n",
    "fcdf.head(3)"
   ]
  },
  {
   "cell_type": "code",
   "execution_count": 70,
   "metadata": {},
   "outputs": [
    {
     "data": {
      "text/html": [
       "<div>\n",
       "<style scoped>\n",
       "    .dataframe tbody tr th:only-of-type {\n",
       "        vertical-align: middle;\n",
       "    }\n",
       "\n",
       "    .dataframe tbody tr th {\n",
       "        vertical-align: top;\n",
       "    }\n",
       "\n",
       "    .dataframe thead th {\n",
       "        text-align: right;\n",
       "    }\n",
       "</style>\n",
       "<table border=\"1\" class=\"dataframe\">\n",
       "  <thead>\n",
       "    <tr style=\"text-align: right;\">\n",
       "      <th></th>\n",
       "      <th>pre_lac50_vs_pre_lac25</th>\n",
       "      <th>pre_lac01_vs_pre_lac25</th>\n",
       "    </tr>\n",
       "  </thead>\n",
       "  <tbody>\n",
       "    <tr>\n",
       "      <td>count</td>\n",
       "      <td>4490.000000</td>\n",
       "      <td>4490.000000</td>\n",
       "    </tr>\n",
       "    <tr>\n",
       "      <td>mean</td>\n",
       "      <td>0.485330</td>\n",
       "      <td>0.334338</td>\n",
       "    </tr>\n",
       "    <tr>\n",
       "      <td>std</td>\n",
       "      <td>1.617664</td>\n",
       "      <td>2.234031</td>\n",
       "    </tr>\n",
       "    <tr>\n",
       "      <td>min</td>\n",
       "      <td>-5.644499</td>\n",
       "      <td>-8.086858</td>\n",
       "    </tr>\n",
       "    <tr>\n",
       "      <td>25%</td>\n",
       "      <td>-0.619263</td>\n",
       "      <td>-1.047055</td>\n",
       "    </tr>\n",
       "    <tr>\n",
       "      <td>50%</td>\n",
       "      <td>0.000000</td>\n",
       "      <td>0.000000</td>\n",
       "    </tr>\n",
       "    <tr>\n",
       "      <td>75%</td>\n",
       "      <td>1.744059</td>\n",
       "      <td>1.817703</td>\n",
       "    </tr>\n",
       "    <tr>\n",
       "      <td>max</td>\n",
       "      <td>8.094750</td>\n",
       "      <td>9.176790</td>\n",
       "    </tr>\n",
       "  </tbody>\n",
       "</table>\n",
       "</div>"
      ],
      "text/plain": [
       "       pre_lac50_vs_pre_lac25  pre_lac01_vs_pre_lac25\n",
       "count             4490.000000             4490.000000\n",
       "mean                 0.485330                0.334338\n",
       "std                  1.617664                2.234031\n",
       "min                 -5.644499               -8.086858\n",
       "25%                 -0.619263               -1.047055\n",
       "50%                  0.000000                0.000000\n",
       "75%                  1.744059                1.817703\n",
       "max                  8.094750                9.176790"
      ]
     },
     "execution_count": 70,
     "metadata": {},
     "output_type": "execute_result"
    }
   ],
   "source": [
    "fcdf.describe()"
   ]
  },
  {
   "cell_type": "code",
   "execution_count": 71,
   "metadata": {},
   "outputs": [],
   "source": [
    "fcdf = fcdf.fillna(0)"
   ]
  },
  {
   "cell_type": "code",
   "execution_count": 72,
   "metadata": {},
   "outputs": [
    {
     "name": "stderr",
     "output_type": "stream",
     "text": [
      "/Users/huijing/opt/anaconda3/lib/python3.7/site-packages/ipykernel_launcher.py:4: UserWarning: This figure includes Axes that are not compatible with tight_layout, so results might be incorrect.\n",
      "  after removing the cwd from sys.path.\n"
     ]
    },
    {
     "data": {
      "image/png": "[encoded data removed]",
      "text/plain": [
       "<Figure size 936x936 with 4 Axes>"
      ]
     },
     "metadata": {
      "needs_background": "light"
     },
     "output_type": "display_data"
    }
   ],
   "source": [
    "import seaborn as sns\n",
    "\n",
    "sns.clustermap(fcdf.transpose(), figsize=(13,13), cmap='RdBu_r', method='ward', xticklabels=False)\n",
    "plt.tight_layout()\n",
    "plt.savefig(\"HelpPlots/conditioncluster_ticks.pdf\", dpi=200)\n",
    "plt.show()"
   ]
  },
  {
   "cell_type": "code",
   "execution_count": 73,
   "metadata": {},
   "outputs": [
    {
     "name": "stderr",
     "output_type": "stream",
     "text": [
      "/Users/huijing/opt/anaconda3/lib/python3.7/site-packages/ipykernel_launcher.py:2: UserWarning: This figure includes Axes that are not compatible with tight_layout, so results might be incorrect.\n",
      "  \n"
     ]
    },
    {
     "data": {
      "image/png": "[encoded data removed]",
      "text/plain": [
       "<Figure size 936x216 with 4 Axes>"
      ]
     },
     "metadata": {
      "needs_background": "light"
     },
     "output_type": "display_data"
    }
   ],
   "source": [
    "sns.clustermap(fcdf.transpose(), figsize=(13,3), cmap='RdBu_r', method='ward', xticklabels=False)\n",
    "plt.tight_layout()\n",
    "plt.savefig(\"HelpPlots/conditioncluster.pdf\", dpi=200)\n",
    "plt.show()"
   ]
  },
  {
   "cell_type": "code",
   "execution_count": null,
   "metadata": {},
   "outputs": [],
   "source": []
  }
 ],
 "metadata": {
  "kernelspec": {
   "display_name": "Python 3",
   "language": "python",
   "name": "python3"
  },
  "language_info": {
   "codemirror_mode": {
    "name": "ipython",
    "version": 3
   },
   "file_extension": ".py",
   "mimetype": "text/x-python",
   "name": "python",
   "nbconvert_exporter": "python",
   "pygments_lexer": "ipython3",
   "version": "3.7.4"
  }
 },
 "nbformat": 4,
 "nbformat_minor": 2
}
